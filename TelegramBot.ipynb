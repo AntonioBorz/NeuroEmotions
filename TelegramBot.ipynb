{
  "cells": [
    {
      "cell_type": "markdown",
      "metadata": {
        "id": "view-in-github",
        "colab_type": "text"
      },
      "source": [
        "<a href=\"https://colab.research.google.com/github/AntonioBorz/NeuroEmotions/blob/main/TelegramBot.ipynb\" target=\"_parent\"><img src=\"https://colab.research.google.com/assets/colab-badge.svg\" alt=\"Open In Colab\"/></a>"
      ]
    },
    {
      "cell_type": "code",
      "execution_count": null,
      "id": "6a5378f9-eea6-4bc7-aa30-50b662bb369f",
      "metadata": {
        "scrolled": true,
        "id": "6a5378f9-eea6-4bc7-aa30-50b662bb369f"
      },
      "outputs": [],
      "source": [
        "import pandas as pd\n",
        "import numpy as np\n",
        "from sklearn.utils import shuffle\n",
        "import torch\n",
        "import torch.nn as nn\n",
        "from collections import Counter"
      ]
    },
    {
      "cell_type": "code",
      "execution_count": null,
      "id": "24391af1-405b-43dc-ba10-027ed76f200c",
      "metadata": {
        "id": "24391af1-405b-43dc-ba10-027ed76f200c"
      },
      "outputs": [],
      "source": [
        "# # Считываем датасет\n",
        "# n1 = ['ID', 'Rating', 'Date', 'Place Name', 'Text']\n",
        "# data_positive = pd.read_csv('db/5_4.csv')\n",
        "# data_negative = pd.read_csv('db/1_2.csv')\n",
        "\n",
        "# n2 = ['id', 'date', 'name', 'text', 'typr', 'rep', 'rtw', 'faw', 'stcount', 'foll', 'frien', 'listcount']\n",
        "# data_positive2 = pd.read_csv('db/positive.csv', sep=';', names=n2, usecols=['text'])\n",
        "# data_negative2 = pd.read_csv('db/negative.csv', sep=';', names=n2, usecols=['text'])"
      ]
    },
    {
      "cell_type": "code",
      "execution_count": null,
      "id": "44203a7f-4fbd-4992-8caf-69b43d6dc076",
      "metadata": {
        "id": "44203a7f-4fbd-4992-8caf-69b43d6dc076"
      },
      "outputs": [],
      "source": [
        "# # Формирование сбалансированного датасета\n",
        "# sample_size1 = 3000\n",
        "# reviews_withoutshuffle_1 = np.concatenate((\n",
        "#     data_positive['Text'].values[:sample_size1],\n",
        "#     data_negative['Text'].values[:sample_size1]\n",
        "# ), axis=0)\n",
        "\n",
        "# labels_withoutshuffle_1 = np.asarray([1] * sample_size1 + [0] * sample_size1)\n",
        "\n",
        "# assert len(reviews_withoutshuffle_1) == len(labels_withoutshuffle_1)\n",
        "\n",
        "# sample_size2 = 40000\n",
        "# reviews_withoutshuffle_2 = np.concatenate((\n",
        "#     data_positive2['text'].values[:sample_size2],\n",
        "#     data_negative2['text'].values[:sample_size2]\n",
        "# ), axis=0)\n",
        "\n",
        "# labels_withoutshuffle_2 = np.asarray([1] * sample_size2 + [0] * sample_size2)\n",
        "\n",
        "# assert len(reviews_withoutshuffle_2) == len(labels_withoutshuffle_2)\n",
        "\n",
        "# all_reviews = np.concatenate((reviews_withoutshuffle_1, reviews_withoutshuffle_2), axis=0)\n",
        "# all_labels = np.concatenate((labels_withoutshuffle_1, labels_withoutshuffle_2), axis=0)\n",
        "\n",
        "# reviews, labels = shuffle(all_reviews, all_labels, random_state=0)\n",
        "\n",
        "# assert len(reviews) == len(labels)"
      ]
    },
    {
      "cell_type": "code",
      "execution_count": null,
      "id": "af1895c7-e90c-442f-b5db-636bfbce5c0a",
      "metadata": {
        "id": "af1895c7-e90c-442f-b5db-636bfbce5c0a"
      },
      "outputs": [],
      "source": [
        "# # Токенизация\n",
        "# def tokenize():\n",
        "#   punctuation = '!\"#$%&\\'()*+,-./:;<=>?[\\\\]^_`{|}~'\n",
        "#   all_reviews = 'separator'.join(reviews)\n",
        "#   all_reviews = all_reviews.lower()\n",
        "#   all_text = ''.join([c for c in all_reviews if c not in punctuation])\n",
        "#   texts_split = all_text.split('separator')\n",
        "#   all_text = ' '.join(texts_split)\n",
        "#   words = all_text.split()\n",
        "#   return words, texts_split\n",
        "\n",
        "# words, texts_split = tokenize()"
      ]
    },
    {
      "cell_type": "code",
      "execution_count": null,
      "id": "522934be-e6be-4525-9b23-f043a43ba5e9",
      "metadata": {
        "id": "522934be-e6be-4525-9b23-f043a43ba5e9"
      },
      "outputs": [],
      "source": [
        "# df = pd.DataFrame(words, columns=['info'])\n",
        "# df.to_csv(\"db/words.csv\", sep=\";\", encoding=\"utf-8\")\n",
        "\n",
        "# df1 = pd.DataFrame(texts_split, columns=['info'])\n",
        "# df1.to_csv(\"db/texts_split.csv\", sep=\";\", encoding=\"utf-8\")"
      ]
    },
    {
      "cell_type": "code",
      "execution_count": null,
      "id": "f416a2db-2e78-4a42-b80c-7335d0e57515",
      "metadata": {
        "id": "f416a2db-2e78-4a42-b80c-7335d0e57515",
        "outputId": "999ef6fa-d619-45a9-b4f1-749a7daac8d0"
      },
      "outputs": [
        {
          "name": "stdout",
          "output_type": "stream",
          "text": [
            "Добавили датасет\n"
          ]
        }
      ],
      "source": [
        "words = pd.read_csv('db/words.csv', sep=\";\", encoding=\"utf-8\")\n",
        "words = words['info']\n",
        "\n",
        "texts_split = pd.read_csv('db/texts_split.csv', sep=\";\", encoding=\"utf-8\")\n",
        "texts_split = texts_split['info']\n",
        "\n",
        "print(\"Добавили датасет\")"
      ]
    },
    {
      "cell_type": "code",
      "execution_count": null,
      "id": "274fb8a3-2d49-4f5e-93cf-0e51c4546709",
      "metadata": {
        "id": "274fb8a3-2d49-4f5e-93cf-0e51c4546709"
      },
      "outputs": [],
      "source": [
        "# new_reviews = []\n",
        "# for review in texts_split:\n",
        "#     review = review.split()\n",
        "#     new_text = []\n",
        "#     for word in review:\n",
        "#         if (word[0] != '@') & ('http' not in word) & (~word.isdigit()):\n",
        "#             new_text.append(word)\n",
        "#     new_reviews.append(new_text)"
      ]
    },
    {
      "cell_type": "code",
      "execution_count": null,
      "id": "eba21db8-3216-4882-90c1-bd7487db54ab",
      "metadata": {
        "id": "eba21db8-3216-4882-90c1-bd7487db54ab"
      },
      "outputs": [],
      "source": [
        "counts = Counter(words)\n",
        "vocab = sorted(counts, key=counts.get, reverse=True)\n",
        "vocab_to_int = {word: ii - 1 for ii, word in enumerate(vocab, 1)}\n",
        "# reviews_ints = []\n",
        "# for review in new_reviews:\n",
        "#     reviews_ints.append([vocab_to_int[word] for word in review])"
      ]
    },
    {
      "cell_type": "code",
      "execution_count": null,
      "id": "263f82fb-5edf-420c-b991-ecf31f68f169",
      "metadata": {
        "id": "263f82fb-5edf-420c-b991-ecf31f68f169",
        "outputId": "17967508-a743-4fa6-f7d6-a420ca6c094a"
      },
      "outputs": [
        {
          "name": "stdout",
          "output_type": "stream",
          "text": [
            "Прошли функцию токенезации\n"
          ]
        }
      ],
      "source": [
        "def add_pads(reviews_ints, seq_length):\n",
        "    features = np.zeros((len(reviews_ints), seq_length), dtype=int)\n",
        "    for i, row in enumerate(reviews_ints):\n",
        "        if len(row) == 0:\n",
        "            continue\n",
        "        features[i, -len(row):] = np.array(row)[:seq_length]\n",
        "    return features\n",
        "\n",
        "print(\"Прошли функцию токенезации\")"
      ]
    },
    {
      "cell_type": "code",
      "execution_count": null,
      "id": "5a2a7cd7-d458-435c-a38b-e81f50c3b9eb",
      "metadata": {
        "id": "5a2a7cd7-d458-435c-a38b-e81f50c3b9eb"
      },
      "outputs": [],
      "source": [
        "# Архитектура нейронной сети\n",
        "class LSTM_architecture(nn.Module):\n",
        "    def __init__(self, vocab_size, output_size, embedding_dim, hidden_dim, number_of_layers, drop=0.5):\n",
        "        super(LSTM_architecture, self).__init__()\n",
        "        self.output_size = output_size\n",
        "        self.number_of_layers = number_of_layers\n",
        "        self.hidden_dim = hidden_dim\n",
        "        self.embedding = nn.Embedding(vocab_size, embedding_dim)\n",
        "        self.lstm = nn.LSTM(embedding_dim, hidden_dim, number_of_layers,dropout=drop, batch_first=True)\n",
        "        self.dropout = nn.Dropout(0.45)\n",
        "        self.fc = nn.Linear(hidden_dim, output_size)\n",
        "        self.sigmoid = nn.Sigmoid()\n",
        "\n",
        "    def forward(self, x, hidden_state):\n",
        "        lstm_out, hidden_state = self.lstm(self.embedding(x.long()), hidden_state)\n",
        "        lstm_out = lstm_out.contiguous().view(-1, self.hidden_dim)\n",
        "        out = self.dropout(lstm_out)\n",
        "        out = self.fc(out)\n",
        "        sig_out = self.sigmoid(out)\n",
        "        batch_size = x.size(0)\n",
        "        sig_out = sig_out.view(batch_size, -1)\n",
        "        sig_out = sig_out[:, -1]\n",
        "        return sig_out, hidden_state\n",
        "\n",
        "    def init_hidden_state(self, batch_size):\n",
        "        weight = next(self.parameters()).data\n",
        "        hidden_state = (weight.new(self.number_of_layers, batch_size, self.hidden_dim).zero_(),\n",
        "                      weight.new(self.number_of_layers, batch_size, self.hidden_dim).zero_())\n",
        "        return hidden_state"
      ]
    },
    {
      "cell_type": "code",
      "execution_count": null,
      "id": "4ab30077-c877-44fd-abb4-6380a3420b6e",
      "metadata": {
        "id": "4ab30077-c877-44fd-abb4-6380a3420b6e",
        "outputId": "60180a97-f7ff-40df-88a4-0082f838dcfb"
      },
      "outputs": [
        {
          "name": "stdout",
          "output_type": "stream",
          "text": [
            "Загрузили модель\n"
          ]
        },
        {
          "name": "stderr",
          "output_type": "stream",
          "text": [
            "C:\\Users\\golun\\AppData\\Local\\Temp\\ipykernel_12772\\56841439.py:7: FutureWarning: You are using `torch.load` with `weights_only=False` (the current default value), which uses the default pickle module implicitly. It is possible to construct malicious pickle data which will execute arbitrary code during unpickling (See https://github.com/pytorch/pytorch/blob/main/SECURITY.md#untrusted-models for more details). In a future release, the default value for `weights_only` will be flipped to `True`. This limits the functions that could be executed during unpickling. Arbitrary objects will no longer be allowed to be loaded via this mode unless they are explicitly allowlisted by the user via `torch.serialization.add_safe_globals`. We recommend you start setting `weights_only=True` for any use case where you don't have full control of the loaded file. Please open an issue on GitHub for any issues related to this experimental feature.\n",
            "  model.load_state_dict(torch.load('emotionalСoloring.pth', map_location=torch.device('cpu')))\n"
          ]
        }
      ],
      "source": [
        "vocab_size = len(vocab_to_int)+1\n",
        "output_size = 1\n",
        "embedding_dim = 100\n",
        "hidden_dim = 128\n",
        "n_layers = 2\n",
        "model = LSTM_architecture(vocab_size, output_size, embedding_dim, hidden_dim, n_layers)\n",
        "model.load_state_dict(torch.load('emotionalСoloring.pth', map_location=torch.device('cpu')))\n",
        "\n",
        "print(\"Загрузили модель\")"
      ]
    },
    {
      "cell_type": "code",
      "execution_count": null,
      "id": "deda8d48-c261-418b-b38e-5ec3ed038906",
      "metadata": {
        "id": "deda8d48-c261-418b-b38e-5ec3ed038906",
        "outputId": "a1d1707e-32e0-4cbc-df63-45f8ef98638a"
      },
      "outputs": [
        {
          "name": "stdout",
          "output_type": "stream",
          "text": [
            "ПРошли функцию предсказания\n"
          ]
        }
      ],
      "source": [
        "# Предсказание окраски по тексту\n",
        "def tokenize_text(test_review):\n",
        "    test_review = test_review.lower()\n",
        "    punctuation = '!\"#$%&\\'()*+,-./:;<=>?[\\\\]^_`{|}~'\n",
        "    test_text = ''.join([c for c in test_review if c not in punctuation])\n",
        "    test_words = test_text.split()\n",
        "\n",
        "    new_text = []\n",
        "    for word in test_words:\n",
        "        if (word[0] != '@') & ('http' not in word) & (~word.isdigit()):\n",
        "            new_text.append(word)\n",
        "\n",
        "    test_ints = []\n",
        "    # Пропускаем слова, отсутствующие в словаре\n",
        "    test_ints.append([vocab_to_int[word] for word in new_text if word in vocab_to_int])\n",
        "\n",
        "    return test_ints\n",
        "\n",
        "\n",
        "def predict(model, test_review, sequence_length=30):\n",
        "    model.eval()\n",
        "    test_ints = tokenize_text(test_review)\n",
        "    seq_length = sequence_length\n",
        "\n",
        "    if len(test_ints[0]) == 0:\n",
        "        return \"Не удалось распознать слова из отзыва.\"\n",
        "\n",
        "    features = add_pads(test_ints, seq_length)\n",
        "    feature_tensor = torch.from_numpy(features)\n",
        "    batch_size = feature_tensor.size(0)\n",
        "    h = model.init_hidden_state(batch_size)\n",
        "    output, h = model(feature_tensor, h)\n",
        "\n",
        "    pred = torch.round(output.squeeze())\n",
        "    print()\n",
        "\n",
        "    if (pred.item() == 1):\n",
        "        return f\"Вероятность положительного ответа {output.item():.6f}. Отзыв положительный.\"\n",
        "    else:\n",
        "        return f\"Вероятность положительного ответа {output.item():.6f}. Отзыв негативный.\"\n",
        "\n",
        "print(\"Прошли функцию предсказания\")"
      ]
    },
    {
      "cell_type": "code",
      "execution_count": null,
      "id": "f23123a6-233c-40bb-beb2-11faeb16efa1",
      "metadata": {
        "id": "f23123a6-233c-40bb-beb2-11faeb16efa1"
      },
      "outputs": [],
      "source": [
        "import telebot"
      ]
    },
    {
      "cell_type": "code",
      "execution_count": null,
      "id": "a284d2f1-e888-4391-83e9-86c281c2dcfe",
      "metadata": {
        "id": "a284d2f1-e888-4391-83e9-86c281c2dcfe"
      },
      "outputs": [],
      "source": [
        "def getToken(fileName):\n",
        "    with open(fileName, 'r') as file:\n",
        "        return file.read()"
      ]
    },
    {
      "cell_type": "code",
      "execution_count": null,
      "id": "4908fd66-c2ec-478e-9dee-0c1de45871d2",
      "metadata": {
        "id": "4908fd66-c2ec-478e-9dee-0c1de45871d2",
        "outputId": "140a03ab-fbd0-4ee3-b149-e7a56b3713fd"
      },
      "outputs": [
        {
          "name": "stdout",
          "output_type": "stream",
          "text": [
            "Бот запущен\n",
            "\n"
          ]
        }
      ],
      "source": [
        "bot = telebot.TeleBot(getToken('Сonfig.ini'))\n",
        "\n",
        "print(\"Бот запущен\")\n",
        "\n",
        "@bot.message_handler(commands=['start'])\n",
        "def main(message):\n",
        "  bot.send_message(message.chat.id, 'Введите отзыв на русском языке.')\n",
        "\n",
        "@bot.message_handler()\n",
        "def info(message):\n",
        "  try:\n",
        "    pred = predict(model, message.text, 30)\n",
        "    bot.reply_to(message, pred)\n",
        "  except:\n",
        "    bot.reply_to(message, 'Бот не смог классифицировать отзыв.')\n",
        "\n",
        "bot.polling(none_stop=True)"
      ]
    }
  ],
  "metadata": {
    "kernelspec": {
      "display_name": "Python 3 (ipykernel)",
      "language": "python",
      "name": "python3"
    },
    "language_info": {
      "codemirror_mode": {
        "name": "ipython",
        "version": 3
      },
      "file_extension": ".py",
      "mimetype": "text/x-python",
      "name": "python",
      "nbconvert_exporter": "python",
      "pygments_lexer": "ipython3",
      "version": "3.11.7"
    },
    "colab": {
      "provenance": [],
      "include_colab_link": true
    }
  },
  "nbformat": 4,
  "nbformat_minor": 5
}